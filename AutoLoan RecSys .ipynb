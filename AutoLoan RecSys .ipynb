{
 "cells": [
  {
   "cell_type": "code",
   "execution_count": 42,
   "metadata": {},
   "outputs": [
    {
     "data": {
      "text/html": [
       "<div>\n",
       "<style scoped>\n",
       "    .dataframe tbody tr th:only-of-type {\n",
       "        vertical-align: middle;\n",
       "    }\n",
       "\n",
       "    .dataframe tbody tr th {\n",
       "        vertical-align: top;\n",
       "    }\n",
       "\n",
       "    .dataframe thead th {\n",
       "        text-align: right;\n",
       "    }\n",
       "</style>\n",
       "<table border=\"1\" class=\"dataframe\">\n",
       "  <thead>\n",
       "    <tr style=\"text-align: right;\">\n",
       "      <th></th>\n",
       "      <th>Loan_ID</th>\n",
       "      <th>LOAN</th>\n",
       "      <th>LOANDUE</th>\n",
       "      <th>VALUE</th>\n",
       "      <th>REASON</th>\n",
       "      <th>JOB</th>\n",
       "      <th>YOJ</th>\n",
       "      <th>DEROG</th>\n",
       "      <th>DELINQ</th>\n",
       "      <th>CLAGE</th>\n",
       "      <th>NINQ</th>\n",
       "      <th>CLNO</th>\n",
       "      <th>DEBTINC</th>\n",
       "    </tr>\n",
       "  </thead>\n",
       "  <tbody>\n",
       "    <tr>\n",
       "      <th>0</th>\n",
       "      <td>772418</td>\n",
       "      <td>1100</td>\n",
       "      <td>25860.0</td>\n",
       "      <td>39025.0</td>\n",
       "      <td>CarImp</td>\n",
       "      <td>Other</td>\n",
       "      <td>10.5</td>\n",
       "      <td>0.0</td>\n",
       "      <td>0.0</td>\n",
       "      <td>94.366667</td>\n",
       "      <td>1.0</td>\n",
       "      <td>9.0</td>\n",
       "      <td>NaN</td>\n",
       "    </tr>\n",
       "    <tr>\n",
       "      <th>1</th>\n",
       "      <td>477724</td>\n",
       "      <td>1300</td>\n",
       "      <td>70053.0</td>\n",
       "      <td>68400.0</td>\n",
       "      <td>CarImp</td>\n",
       "      <td>Other</td>\n",
       "      <td>7.0</td>\n",
       "      <td>0.0</td>\n",
       "      <td>2.0</td>\n",
       "      <td>121.833333</td>\n",
       "      <td>0.0</td>\n",
       "      <td>14.0</td>\n",
       "      <td>NaN</td>\n",
       "    </tr>\n",
       "    <tr>\n",
       "      <th>2</th>\n",
       "      <td>150746</td>\n",
       "      <td>1500</td>\n",
       "      <td>13500.0</td>\n",
       "      <td>16700.0</td>\n",
       "      <td>CarImp</td>\n",
       "      <td>Other</td>\n",
       "      <td>4.0</td>\n",
       "      <td>0.0</td>\n",
       "      <td>0.0</td>\n",
       "      <td>149.466667</td>\n",
       "      <td>1.0</td>\n",
       "      <td>10.0</td>\n",
       "      <td>NaN</td>\n",
       "    </tr>\n",
       "    <tr>\n",
       "      <th>3</th>\n",
       "      <td>108584</td>\n",
       "      <td>1500</td>\n",
       "      <td>NaN</td>\n",
       "      <td>NaN</td>\n",
       "      <td>NaN</td>\n",
       "      <td>NaN</td>\n",
       "      <td>NaN</td>\n",
       "      <td>NaN</td>\n",
       "      <td>NaN</td>\n",
       "      <td>NaN</td>\n",
       "      <td>NaN</td>\n",
       "      <td>NaN</td>\n",
       "      <td>NaN</td>\n",
       "    </tr>\n",
       "    <tr>\n",
       "      <th>4</th>\n",
       "      <td>321534</td>\n",
       "      <td>1700</td>\n",
       "      <td>97800.0</td>\n",
       "      <td>112000.0</td>\n",
       "      <td>CarImp</td>\n",
       "      <td>Office</td>\n",
       "      <td>3.0</td>\n",
       "      <td>0.0</td>\n",
       "      <td>0.0</td>\n",
       "      <td>93.333333</td>\n",
       "      <td>0.0</td>\n",
       "      <td>14.0</td>\n",
       "      <td>NaN</td>\n",
       "    </tr>\n",
       "    <tr>\n",
       "      <th>5</th>\n",
       "      <td>874921</td>\n",
       "      <td>1700</td>\n",
       "      <td>30548.0</td>\n",
       "      <td>40320.0</td>\n",
       "      <td>CarImp</td>\n",
       "      <td>Other</td>\n",
       "      <td>9.0</td>\n",
       "      <td>0.0</td>\n",
       "      <td>0.0</td>\n",
       "      <td>101.466002</td>\n",
       "      <td>1.0</td>\n",
       "      <td>8.0</td>\n",
       "      <td>37.113614</td>\n",
       "    </tr>\n",
       "    <tr>\n",
       "      <th>6</th>\n",
       "      <td>511718</td>\n",
       "      <td>1800</td>\n",
       "      <td>48649.0</td>\n",
       "      <td>57037.0</td>\n",
       "      <td>CarImp</td>\n",
       "      <td>Other</td>\n",
       "      <td>5.0</td>\n",
       "      <td>3.0</td>\n",
       "      <td>2.0</td>\n",
       "      <td>77.100000</td>\n",
       "      <td>1.0</td>\n",
       "      <td>17.0</td>\n",
       "      <td>NaN</td>\n",
       "    </tr>\n",
       "    <tr>\n",
       "      <th>7</th>\n",
       "      <td>119768</td>\n",
       "      <td>1800</td>\n",
       "      <td>28502.0</td>\n",
       "      <td>43034.0</td>\n",
       "      <td>CarImp</td>\n",
       "      <td>Other</td>\n",
       "      <td>11.0</td>\n",
       "      <td>0.0</td>\n",
       "      <td>0.0</td>\n",
       "      <td>88.766030</td>\n",
       "      <td>0.0</td>\n",
       "      <td>8.0</td>\n",
       "      <td>36.884894</td>\n",
       "    </tr>\n",
       "    <tr>\n",
       "      <th>8</th>\n",
       "      <td>290726</td>\n",
       "      <td>2000</td>\n",
       "      <td>32700.0</td>\n",
       "      <td>46740.0</td>\n",
       "      <td>CarImp</td>\n",
       "      <td>Other</td>\n",
       "      <td>3.0</td>\n",
       "      <td>0.0</td>\n",
       "      <td>2.0</td>\n",
       "      <td>216.933333</td>\n",
       "      <td>1.0</td>\n",
       "      <td>12.0</td>\n",
       "      <td>NaN</td>\n",
       "    </tr>\n",
       "    <tr>\n",
       "      <th>9</th>\n",
       "      <td>245544</td>\n",
       "      <td>2000</td>\n",
       "      <td>NaN</td>\n",
       "      <td>62250.0</td>\n",
       "      <td>CarImp</td>\n",
       "      <td>Sales</td>\n",
       "      <td>16.0</td>\n",
       "      <td>0.0</td>\n",
       "      <td>0.0</td>\n",
       "      <td>115.800000</td>\n",
       "      <td>0.0</td>\n",
       "      <td>13.0</td>\n",
       "      <td>NaN</td>\n",
       "    </tr>\n",
       "  </tbody>\n",
       "</table>\n",
       "</div>"
      ],
      "text/plain": [
       "   Loan_ID  LOAN  LOANDUE     VALUE  REASON     JOB   YOJ  DEROG  DELINQ  \\\n",
       "0   772418  1100  25860.0   39025.0  CarImp   Other  10.5    0.0     0.0   \n",
       "1   477724  1300  70053.0   68400.0  CarImp   Other   7.0    0.0     2.0   \n",
       "2   150746  1500  13500.0   16700.0  CarImp   Other   4.0    0.0     0.0   \n",
       "3   108584  1500      NaN       NaN     NaN     NaN   NaN    NaN     NaN   \n",
       "4   321534  1700  97800.0  112000.0  CarImp  Office   3.0    0.0     0.0   \n",
       "5   874921  1700  30548.0   40320.0  CarImp   Other   9.0    0.0     0.0   \n",
       "6   511718  1800  48649.0   57037.0  CarImp   Other   5.0    3.0     2.0   \n",
       "7   119768  1800  28502.0   43034.0  CarImp   Other  11.0    0.0     0.0   \n",
       "8   290726  2000  32700.0   46740.0  CarImp   Other   3.0    0.0     2.0   \n",
       "9   245544  2000      NaN   62250.0  CarImp   Sales  16.0    0.0     0.0   \n",
       "\n",
       "        CLAGE  NINQ  CLNO    DEBTINC  \n",
       "0   94.366667   1.0   9.0        NaN  \n",
       "1  121.833333   0.0  14.0        NaN  \n",
       "2  149.466667   1.0  10.0        NaN  \n",
       "3         NaN   NaN   NaN        NaN  \n",
       "4   93.333333   0.0  14.0        NaN  \n",
       "5  101.466002   1.0   8.0  37.113614  \n",
       "6   77.100000   1.0  17.0        NaN  \n",
       "7   88.766030   0.0   8.0  36.884894  \n",
       "8  216.933333   1.0  12.0        NaN  \n",
       "9  115.800000   0.0  13.0        NaN  "
      ]
     },
     "execution_count": 42,
     "metadata": {},
     "output_type": "execute_result"
    }
   ],
   "source": [
    "df"
   ]
  },
  {
   "cell_type": "code",
   "execution_count": 31,
   "metadata": {},
   "outputs": [],
   "source": [
    "import pandas as pd\n",
    "import numpy as np\n",
    "import random\n",
    "from sklearn.feature_extraction.text import CountVectorizer\n",
    "from sklearn.metrics.pairwise import cosine_similarity\n",
    "from sklearn.preprocessing import OneHotEncoder\n",
    "from datetime import date\n",
    "import random\n",
    "\n",
    "df = pd.read_csv('Data_orig/AutoLoan.csv',sep= ',')[11:]\n",
    "df_scoring = pd.read_csv('Data_orig/AutoLoan.csv',sep= ',')[0:11]\n",
    "\n",
    "df.insert(1, 'APP_DATE',pd.date_range(start='1/1/2005', periods=len(df), freq='D'))\n",
    "\n",
    "df=df.sample(frac=1).reset_index(drop=True)\n",
    "\n",
    "df['index']= df.index\n",
    " \n",
    "def action_if(x): \n",
    "    if (x < 604):\n",
    "        return 'Put More Money Down'\n",
    "    elif (x < 1199):\n",
    "        return 'Offer Longer Contract Term'\n",
    "    elif (x < 1492):\n",
    "        return 'Switch to Less Expensive Vehicle'\n",
    "    elif (x < 1794):\n",
    "        return 'Swith to Lease'\n",
    "    elif (x < 2389):\n",
    "        return 'Switch to Used Vehicle'\n",
    "    elif (x < 2984):\n",
    "        return 'Offer Economy Vehicle'\n",
    "    elif (x < 3579):\n",
    "        return 'Offer Small SUV'\n",
    "    elif (x < 4175):\n",
    "        return 'Offer Small Pickup Truck'\n",
    "    elif (x < 4771):\n",
    "        return 'Offer Sedan'\n",
    "    else:\n",
    "        return 'Renew Existing Lease'\n",
    "    \n",
    "action_group = df.copy()   \n",
    "df['ACTION'] = action_group['index'].apply(action_if)\n",
    "\n",
    "df2 = df.fillna(0)\n",
    "\n",
    "#df3 = df2.drop(['index', 'APP_DATE', 'BAD'], axis=1)\n",
    "\n",
    "df_history = df2.drop(['index', 'BAD'], axis=1)\n",
    " \n",
    "dfgene =df2[['BAD', 'LOAN', 'LOANDUE', 'VALUE', 'YOJ', 'DEROG','DELINQ', 'CLAGE', 'NINQ', 'CLNO', 'DEBTINC']].to_numpy(dtype= 'float32')\n",
    "dfgene2 =df2[['BAD', 'LOAN', 'LOANDUE', 'VALUE', 'YOJ', 'DEROG','DELINQ', 'CLAGE', 'NINQ', 'CLNO', 'DEBTINC']]\n",
    " \n",
    "#write out remediation history and new failures\n",
    "df_history.to_csv('/sasinside/userdata/gegrab/resources/hmeq/AutoLoan_remediation_history.csv', index=False)\n",
    " \n",
    " \n",
    "#df_scoring.to_csv('Data_orig/AutoLoan_scoring.csv', index=False) Just Use Autoloan_test_1\n",
    " "
   ]
  },
  {
   "cell_type": "code",
   "execution_count": 3,
   "metadata": {},
   "outputs": [
    {
     "name": "stdout",
     "output_type": "stream",
     "text": [
      "[(0, 0.9999998), (4531, 0.999996), (82, 0.9999937), (5604, 0.999991), (193, 0.9999874), (1458, 0.9999752), (498, 0.9999736), (2757, 0.9999715), (5363, 0.9999708), (4963, 0.99996215), (3355, 0.99995023)]\n"
     ]
    }
   ],
   "source": [
    "auto_index =0\n",
    "cosine_sim = cosine_similarity(dfgene)\n",
    "similar_auto = list(enumerate(cosine_sim[auto_index])) \n",
    "sorted_similar_auto = sorted(similar_auto, key=lambda x:x[1], reverse=True)\n",
    "sorted_similar_auto2 = pd.DataFrame(sorted(similar_auto, key=lambda x:x[1], reverse=True))\n",
    "\n",
    "print(sorted_similar_auto[0:11])\n",
    "     "
   ]
  },
  {
   "cell_type": "code",
   "execution_count": 4,
   "metadata": {},
   "outputs": [
    {
     "name": "stdout",
     "output_type": "stream",
     "text": [
      "Loan ID with High Predicted Default:\n",
      " 759856\n",
      "\n",
      "\n",
      "\"Loan IDs with Similar Application Features and the Ensuing Response Action\"\n",
      "Loan IDs + Response + Response Date:\n",
      "\n",
      "(19035, 'Offer Sedan', numpy.datetime64('2012-05-25T00:00:00.000000000'))\n",
      "(972048, 'Put More Money Down', numpy.datetime64('2016-01-23T00:00:00.000000000'))\n",
      "(604901, 'Renew Existing Lease', numpy.datetime64('2019-03-07T00:00:00.000000000'))\n",
      "(200760, 'Put More Money Down', numpy.datetime64('2016-08-12T00:00:00.000000000'))\n",
      "(362241, 'Switch to Less Expensive Vehicle', numpy.datetime64('2019-03-06T00:00:00.000000000'))\n",
      "(891634, 'Put More Money Down', numpy.datetime64('2011-08-31T00:00:00.000000000'))\n",
      "(333791, 'Offer Economy Vehicle', numpy.datetime64('2018-02-27T00:00:00.000000000'))\n",
      "(941332, 'Renew Existing Lease', numpy.datetime64('2016-05-18T00:00:00.000000000'))\n",
      "(653810, 'Renew Existing Lease', numpy.datetime64('2014-08-24T00:00:00.000000000'))\n",
      "(459732, 'Offer Small SUV', numpy.datetime64('2015-09-30T00:00:00.000000000'))\n"
     ]
    }
   ],
   "source": [
    "# Print remediation and date of machines that had the highest cosine simularity\n",
    "\n",
    "def get_auto_from_index2(index):\n",
    "     \n",
    "    return (df2[df2.index == index][\"Loan_ID\"].values[0], df2[df2.index == index][\"ACTION\"].values[0],\n",
    "            df2[df2.index == index][\"APP_DATE\"].values[0])\n",
    "            #sorted_similar_machines[i][1], sorted_similar_machines[i][0])\n",
    "            \n",
    " \n",
    "\n",
    "print('Loan ID with High Predicted Default:\\n',df2[df2.index == 0][\"Loan_ID\"].values[0]) \n",
    "print('\\n')\n",
    "\n",
    "i=0\n",
    "print('\"Loan IDs with Similar Application Features and the Ensuing Response Action\"')\n",
    "print('Loan IDs + Response + Response Date:\\n')\n",
    "for auto in sorted_similar_auto:\n",
    "    i=i+1\n",
    "    \n",
    "    if i > 1:\n",
    "        print(get_auto_from_index2(auto[0]))  \n",
    "    if i  > 10:\n",
    "        break\n",
    "    "
   ]
  },
  {
   "cell_type": "code",
   "execution_count": 38,
   "metadata": {},
   "outputs": [],
   "source": [
    "''' List all output parameters as comma-separated values in the \"Output:\" docString. Do not specify \"None\" if there is no output parameter. '''\n",
    "def execute(Loan_ID,\n",
    "            LOAN,\n",
    "            LOANDUE,\n",
    "            VALUE,\n",
    "            REASON,\n",
    "            JOB,\n",
    "            YOJ,\n",
    "            DEROG,\n",
    "            DELINQ,\n",
    "            CLAGE,\n",
    "            NINQ,\n",
    "            CLNO,\n",
    "            DEBTINC):\n",
    "    \"Output: COSINE_1, LOAN_ID_1, APP_DATE_1, ACTION_1\"\n",
    "    #\"Output: gene\"\n",
    "             \n",
    "    import pandas as pd\n",
    "    import numpy as np\n",
    "    import pickle\n",
    "    from sklearn.metrics.pairwise import cosine_similarity\n",
    "    \n",
    "    inputArray = pd.DataFrame([[Loan_ID, LOAN, LOANDUE, VALUE, REASON, JOB, YOJ, DEROG, DELINQ, CLAGE, NINQ, CLNO, DEBTINC]],\n",
    "                              columns = ['Loan_ID', 'LOAN','LOANDUE','VALUE','REASON','JOB','YOJ','DEROG','DELINQ','CLAGE','NINQ','CLNO','DEBTINC']\n",
    "                             )\n",
    "    \n",
    "    inputArray2 =inputArray[['LOAN','LOANDUE','VALUE','YOJ','DEROG','DELINQ','CLAGE','NINQ','CLNO','DEBTINC']]\n",
    "    inputArray2.fillna(pickle.load(open('/sasinside/userdata/gegrab/resources/hmeq/autoloan_impute.pickle', 'rb')),inplace=True)\n",
    "     \n",
    "    df = pd.read_csv('/sasinside/userdata/gegrab/resources/hmeq/AutoLoan_remediation_history.csv',sep= ',')\n",
    "    df['index']= df.index+1 \n",
    "    \n",
    "    df2 =df[['LOAN','LOANDUE','VALUE','YOJ','DEROG','DELINQ','CLAGE','NINQ','CLNO','DEBTINC']]\n",
    "    \n",
    "    combined = pd.concat([inputArray2,df2], sort=False)\n",
    "    auto_index =0\n",
    "    cosine_sim = cosine_similarity(combined) \n",
    "    similar_auto = list(enumerate(cosine_sim[auto_index])) \n",
    "    sorted_similar_auto = pd.DataFrame(sorted(similar_auto, key=lambda x:x[1], reverse=True))\n",
    "    sorted_similar_auto.columns  = ['index', 'cosine_sim']\n",
    "    \n",
    "    merged = pd.merge(sorted_similar_auto, df,on=['index'])\n",
    "    \n",
    "    COSINE_1 = float(merged.iloc[0][1])\n",
    "    \n",
    "    LOAN_ID_1 = float(merged.iloc[0][2])\n",
    "     \n",
    "    APP_DATE_1 = merged.iloc[0][3]\n",
    "    \n",
    "    ACTION_1 = merged.iloc[0][16]\n",
    "   \n",
    "    \n",
    "    return (COSINE_1, LOAN_ID_1, APP_DATE_1, ACTION_1)\n",
    "     "
   ]
  },
  {
   "cell_type": "code",
   "execution_count": 40,
   "metadata": {},
   "outputs": [
    {
     "name": "stderr",
     "output_type": "stream",
     "text": [
      "/sasinside/miniconda3/envs/pytorch2021/lib/python3.9/site-packages/pandas/core/generic.py:6392: SettingWithCopyWarning: \n",
      "A value is trying to be set on a copy of a slice from a DataFrame\n",
      "\n",
      "See the caveats in the documentation: https://pandas.pydata.org/pandas-docs/stable/user_guide/indexing.html#returning-a-view-versus-a-copy\n",
      "  return self._update_inplace(result)\n"
     ]
    },
    {
     "name": "stdout",
     "output_type": "stream",
     "text": [
      "(0.9999714729388071, 655857.0, '2006-06-11', 'Offer Small Pickup Truck')\n"
     ]
    },
    {
     "name": "stderr",
     "output_type": "stream",
     "text": [
      "/sasinside/miniconda3/envs/pytorch2021/lib/python3.9/site-packages/pandas/core/generic.py:6392: SettingWithCopyWarning: \n",
      "A value is trying to be set on a copy of a slice from a DataFrame\n",
      "\n",
      "See the caveats in the documentation: https://pandas.pydata.org/pandas-docs/stable/user_guide/indexing.html#returning-a-view-versus-a-copy\n",
      "  return self._update_inplace(result)\n"
     ]
    },
    {
     "name": "stdout",
     "output_type": "stream",
     "text": [
      "(0.9995521571354261, 69613.0, '2005-05-21', 'Renew Existing Lease')\n"
     ]
    },
    {
     "name": "stderr",
     "output_type": "stream",
     "text": [
      "/sasinside/miniconda3/envs/pytorch2021/lib/python3.9/site-packages/pandas/core/generic.py:6392: SettingWithCopyWarning: \n",
      "A value is trying to be set on a copy of a slice from a DataFrame\n",
      "\n",
      "See the caveats in the documentation: https://pandas.pydata.org/pandas-docs/stable/user_guide/indexing.html#returning-a-view-versus-a-copy\n",
      "  return self._update_inplace(result)\n"
     ]
    },
    {
     "name": "stdout",
     "output_type": "stream",
     "text": [
      "(0.9999848488332559, 198162.0, '2008-10-14', 'Offer Sedan')\n"
     ]
    },
    {
     "name": "stderr",
     "output_type": "stream",
     "text": [
      "/sasinside/miniconda3/envs/pytorch2021/lib/python3.9/site-packages/pandas/core/generic.py:6392: SettingWithCopyWarning: \n",
      "A value is trying to be set on a copy of a slice from a DataFrame\n",
      "\n",
      "See the caveats in the documentation: https://pandas.pydata.org/pandas-docs/stable/user_guide/indexing.html#returning-a-view-versus-a-copy\n",
      "  return self._update_inplace(result)\n"
     ]
    },
    {
     "name": "stdout",
     "output_type": "stream",
     "text": [
      "(0.9999607391273057, 516541.0, '2005-07-03', 'Offer Small SUV')\n"
     ]
    },
    {
     "name": "stderr",
     "output_type": "stream",
     "text": [
      "/sasinside/miniconda3/envs/pytorch2021/lib/python3.9/site-packages/pandas/core/generic.py:6392: SettingWithCopyWarning: \n",
      "A value is trying to be set on a copy of a slice from a DataFrame\n",
      "\n",
      "See the caveats in the documentation: https://pandas.pydata.org/pandas-docs/stable/user_guide/indexing.html#returning-a-view-versus-a-copy\n",
      "  return self._update_inplace(result)\n"
     ]
    },
    {
     "name": "stdout",
     "output_type": "stream",
     "text": [
      "(0.999965572170819, 894653.0, '2005-01-25', 'Offer Sedan')\n"
     ]
    },
    {
     "name": "stderr",
     "output_type": "stream",
     "text": [
      "/sasinside/miniconda3/envs/pytorch2021/lib/python3.9/site-packages/pandas/core/generic.py:6392: SettingWithCopyWarning: \n",
      "A value is trying to be set on a copy of a slice from a DataFrame\n",
      "\n",
      "See the caveats in the documentation: https://pandas.pydata.org/pandas-docs/stable/user_guide/indexing.html#returning-a-view-versus-a-copy\n",
      "  return self._update_inplace(result)\n"
     ]
    },
    {
     "name": "stdout",
     "output_type": "stream",
     "text": [
      "(0.9999948187081749, 479781.0, '2005-04-29', 'Renew Existing Lease')\n"
     ]
    },
    {
     "name": "stderr",
     "output_type": "stream",
     "text": [
      "/sasinside/miniconda3/envs/pytorch2021/lib/python3.9/site-packages/pandas/core/generic.py:6392: SettingWithCopyWarning: \n",
      "A value is trying to be set on a copy of a slice from a DataFrame\n",
      "\n",
      "See the caveats in the documentation: https://pandas.pydata.org/pandas-docs/stable/user_guide/indexing.html#returning-a-view-versus-a-copy\n",
      "  return self._update_inplace(result)\n"
     ]
    },
    {
     "name": "stdout",
     "output_type": "stream",
     "text": [
      "(0.9999906494630705, 933147.0, '2005-03-09', 'Renew Existing Lease')\n"
     ]
    },
    {
     "name": "stderr",
     "output_type": "stream",
     "text": [
      "/sasinside/miniconda3/envs/pytorch2021/lib/python3.9/site-packages/pandas/core/generic.py:6392: SettingWithCopyWarning: \n",
      "A value is trying to be set on a copy of a slice from a DataFrame\n",
      "\n",
      "See the caveats in the documentation: https://pandas.pydata.org/pandas-docs/stable/user_guide/indexing.html#returning-a-view-versus-a-copy\n",
      "  return self._update_inplace(result)\n"
     ]
    },
    {
     "name": "stdout",
     "output_type": "stream",
     "text": [
      "(0.9999915472369105, 149264.0, '2006-05-18', 'Offer Longer Contract Term')\n"
     ]
    },
    {
     "name": "stderr",
     "output_type": "stream",
     "text": [
      "/sasinside/miniconda3/envs/pytorch2021/lib/python3.9/site-packages/pandas/core/generic.py:6392: SettingWithCopyWarning: \n",
      "A value is trying to be set on a copy of a slice from a DataFrame\n",
      "\n",
      "See the caveats in the documentation: https://pandas.pydata.org/pandas-docs/stable/user_guide/indexing.html#returning-a-view-versus-a-copy\n",
      "  return self._update_inplace(result)\n"
     ]
    },
    {
     "name": "stdout",
     "output_type": "stream",
     "text": [
      "(0.9999930393710171, 846098.0, '2005-09-05', 'Offer Small Pickup Truck')\n"
     ]
    },
    {
     "name": "stderr",
     "output_type": "stream",
     "text": [
      "/sasinside/miniconda3/envs/pytorch2021/lib/python3.9/site-packages/pandas/core/generic.py:6392: SettingWithCopyWarning: \n",
      "A value is trying to be set on a copy of a slice from a DataFrame\n",
      "\n",
      "See the caveats in the documentation: https://pandas.pydata.org/pandas-docs/stable/user_guide/indexing.html#returning-a-view-versus-a-copy\n",
      "  return self._update_inplace(result)\n"
     ]
    },
    {
     "name": "stdout",
     "output_type": "stream",
     "text": [
      "(0.9985767456053145, 473967.0, '2005-02-09', 'Offer Longer Contract Term')\n"
     ]
    }
   ],
   "source": [
    "import pandas as pd\n",
    "df = pd.read_csv('Data_orig/AutoLoan_TEST_1.csv')\n",
    "df.drop('BAD',axis=1, inplace=True)\n",
    " \n",
    " \n",
    "for i in range(10):\n",
    "    print(execute(**df.iloc[i]))"
   ]
  },
  {
   "cell_type": "code",
   "execution_count": null,
   "metadata": {},
   "outputs": [],
   "source": []
  }
 ],
 "metadata": {
  "kernelspec": {
   "display_name": "Python 3 2022 Latest",
   "language": "python",
   "name": "pytorch2021"
  },
  "language_info": {
   "codemirror_mode": {
    "name": "ipython",
    "version": 3
   },
   "file_extension": ".py",
   "mimetype": "text/x-python",
   "name": "python",
   "nbconvert_exporter": "python",
   "pygments_lexer": "ipython3",
   "version": "3.9.7"
  }
 },
 "nbformat": 4,
 "nbformat_minor": 4
}
